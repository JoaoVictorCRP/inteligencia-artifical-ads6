{
 "cells": [
  {
   "cell_type": "markdown",
   "id": "ab6d918b",
   "metadata": {},
   "source": [
    "# Módulo 2️⃣ - Validação"
   ]
  },
  {
   "cell_type": "code",
   "execution_count": null,
   "id": "8a3a3df4",
   "metadata": {},
   "outputs": [],
   "source": [
    "# Importação de bibliotecas\n",
    "## Processamento de dados\n",
    "import numpy as np\n",
    "import pandas as pd\n",
    "from sklearn.preprocessing import StandardScaler\n",
    "from sklearn.linear_model import LogisticRegression\n",
    "from sklearn.pipeline import make_pipeline\n",
    "from sklearn.preprocessing import PolynomialFeatures\n",
    "from sklearn.model_selection import train_test_split, KFold, StratifiedKFold\n",
    "\n",
    "## Matplotlib e estilos para criação de gráficos\n",
    "import matplotlib.pyplot as plt\n",
    "from matplotlib.colors import ListedColormap\n",
    "from matplotlib.lines import Line2D"
   ]
  }
 ],
 "metadata": {
  "language_info": {
   "name": "python"
  }
 },
 "nbformat": 4,
 "nbformat_minor": 5
}
