{
 "cells": [
  {
   "cell_type": "markdown",
   "id": "ab6d918b",
   "metadata": {},
   "source": [
    "# Módulo 2️⃣ - Validação"
   ]
  },
  {
   "cell_type": "markdown",
   "id": "3b440e23",
   "metadata": {},
   "source": [
    "## Importação e carregamento dos dados"
   ]
  },
  {
   "cell_type": "code",
   "execution_count": null,
   "id": "8a3a3df4",
   "metadata": {},
   "outputs": [],
   "source": [
    "# Importação de bibliotecas\n",
    "## Processamento de dados\n",
    "import numpy as np\n",
    "import pandas as pd\n",
    "from sklearn.preprocessing import StandardScaler\n",
    "from sklearn.linear_model import LogisticRegression\n",
    "from sklearn.pipeline import make_pipeline\n",
    "from sklearn.preprocessing import PolynomialFeatures, LabelEncoder\n",
    "from sklearn.model_selection import train_test_split, KFold, StratifiedKFold, LeaveOneOut\n",
    "\n",
    "## Matplotlib e estilos para criação de gráficos\n",
    "import matplotlib.pyplot as plt\n",
    "from matplotlib.colors import ListedColormap\n",
    "from matplotlib.lines import Line2D"
   ]
  },
  {
   "cell_type": "code",
   "execution_count": null,
   "id": "877802d7",
   "metadata": {},
   "outputs": [],
   "source": [
    "# Iremos trabalhar com dados de Pokémon (Extraídos da PokéAPI)\n",
    "data = {\n",
    "    'Nome': ['Charmander', 'Squirtle', 'Growlithe', 'Psyduck', 'Vulpix', 'Poliwag',\n",
    "             'Magmar', 'Tentacool', 'Cyndaquil', 'Totodile', 'Torchic', 'Mudkip',\n",
    "             'Chimchar', 'Piplup', 'Fennekin', 'Froakie'],\n",
    "    'Tipo': ['Fogo', 'Água', 'Fogo', 'Água', 'Fogo', 'Água',\n",
    "             'Fogo', 'Água', 'Fogo', 'Água', 'Fogo', 'Água',\n",
    "             'Fogo', 'Água', 'Fogo', 'Água'],\n",
    "    'Attack': [52, 48, 70, 52, 50, 50, 95, 40, 49, 65, 60, 70, 58, 51, 61, 56],\n",
    "    'Speed': [65, 43, 60, 55, 65, 90, 93, 70, 65, 43, 45, 40, 61, 50, 72, 71]\n",
    "}"
   ]
  },
  {
   "cell_type": "code",
   "execution_count": null,
   "id": "75b14fed",
   "metadata": {},
   "outputs": [],
   "source": [
    "# Criando dataframe\n",
    "df_pokemon = pd.DataFrame(data)\n",
    "print(df_pokemon)"
   ]
  },
  {
   "cell_type": "code",
   "execution_count": null,
   "id": "1a221ed9",
   "metadata": {},
   "outputs": [],
   "source": [
    "# Transformando valores categóricos em números inteiros (isso permite a categorização dos dados pelo computador)\n",
    "le = LabelEncoder()\n",
    "df_pokemon['Tipo'] = le.fit_transform(df_pokemon['Tipo'])\n",
    "print(df_pokemon)"
   ]
  },
  {
   "cell_type": "code",
   "execution_count": null,
   "id": "09904e37",
   "metadata": {},
   "outputs": [],
   "source": [
    "# Separando dados de treinamento e teste\n",
    "x_pokemon = df_pokemon[['Attack', 'Speed']].values\n",
    "y_pokemon = df_pokemon['Tipo'].values\n",
    "\n",
    "df_pokemon.head()"
   ]
  },
  {
   "cell_type": "code",
   "execution_count": null,
   "id": "571b8634",
   "metadata": {},
   "outputs": [],
   "source": [
    "# Particionando dados de treinamento\n",
    "x_train, x_test, y_train, y_test = train_test_split(x_pokemon, y_pokemon, test_size=0.3, random_state=30)"
   ]
  },
  {
   "cell_type": "markdown",
   "id": "b50a0e8f",
   "metadata": {},
   "source": [
    "## Criação de função para exibir dados"
   ]
  },
  {
   "cell_type": "code",
   "execution_count": null,
   "id": "ef0cc8f7",
   "metadata": {},
   "outputs": [],
   "source": [
    "# Função para visualização\n",
    "def plot_model(model, x_train, y_train, x_test, y_test, title):\n",
    "    # --- Geração da grade para o plano de fundo do gráfico ---\n",
    "    x_min, x_max = [x_pokemon[:, 0].min() - 5, x_pokemon[:, 0].max() + 5]\n",
    "    y_min, y_max = [x_pokemon[:, 1].min() - 5, x_pokemon[:, 1].max() + 5]\n",
    "    xx, yy = np.meshgrid(np.linspace(x_min, x_max, 500), np.linspace(y_min, y_max, 500))\n",
    "\n",
    "    # --- Previsão e formatação dos dados para o plano de fundo ---\n",
    "    z = model.predict(np.c_[xx.ravel(), yy.ravel()])\n",
    "    print(f'Z: {z}')\n",
    "    z = z.reshape(xx.shape)\n",
    "\n",
    "    # --- Plotagem dos dados ---\n",
    "    plt.figure(figsize=(10, 6))\n",
    "    cmap = ListedColormap(['red', 'blue']) # [0] Fogo [1] Água\n",
    "    plt.contourf(xx, yy, z, cmap=cmap, alpha=0.5)\n",
    "\n",
    "    # --- Elementos de treino com nome ---\n",
    "    # Agora o loop itera sobre os dados de treino diretamente\n",
    "    for i in range(len(x_train)):\n",
    "        attack = x_train[i, 0]\n",
    "        speed = x_train[i, 1]\n",
    "\n",
    "        cor = 'red' if y_train[i] == 0 else 'blue'\n",
    "        plt.scatter(attack, speed, c=cor, marker='o', edgecolors='k', s=100)\n",
    "        \n",
    "        # Procurando o nome no DataFrame original usando os valores de Attack e Speed.\n",
    "        nome = df_pokemon.loc[(df_pokemon['Attack'] == attack) & (df_pokemon['Speed'] == speed), 'Nome']\n",
    "        \n",
    "        # O resultado de uma busca no dataframe é uma Series do Pandas. \n",
    "        # Acessamos o nome correto com o `.values[0]` para pegar o valor do array.\n",
    "        if len(nome) > 0:\n",
    "            plt.text(attack, speed, nome.values[0], fontsize=8)\n",
    "\n",
    "\n",
    "    # --- Elementos de teste com nome ----\n",
    "    for i in range(len(x_test)):\n",
    "        attack = x_test[i, 0]\n",
    "        speed = x_test[i, 1]\n",
    "\n",
    "        cor = 'red' if y_test[i] == 0 else 'blue'\n",
    "        plt.scatter(attack, speed, c=cor, marker='s', edgecolors='k', s=100)\n",
    "        \n",
    "        # Encontra o nome do Pokémon com base nas estatísticas\n",
    "        nome = df_pokemon.loc[(df_pokemon['Attack'] == attack) & (df_pokemon['Speed'] == speed), 'Nome']\n",
    "\n",
    "        if len(nome) > 0:\n",
    "            plt.text(attack, speed, nome.values[0], fontsize=8)\n",
    "\n",
    "    # --- Legenda ----\n",
    "    legend_elements = [\n",
    "        Line2D([0], [0], marker='o', color='w', label='Fogo (Treino)', markerfacecolor='red', markeredgecolor='k', markersize=10),\n",
    "        Line2D([0], [0], marker='o', color='w', label='Água (Treino)', markerfacecolor='blue', markeredgecolor='k', markersize=10),\n",
    "        Line2D([0], [0], marker='s', color='w', label='Fogo (Teste)', markerfacecolor='red', markeredgecolor='k', markersize=10),\n",
    "        Line2D([0], [0], marker='s', color='w', label='Água (Teste)', markerfacecolor='blue', markeredgecolor='k', markersize=10),\n",
    "    ]\n",
    "\n",
    "    plt.legend(handles=legend_elements, loc='upper right')\n",
    "    plt.title(title)\n",
    "    plt.xlabel('Attack')\n",
    "    plt.ylabel('Speed')\n",
    "    plt.grid(True)\n",
    "    plt.show()\n",
    "\n",
    "    print(f'Acurácia do Treino: {model.score(x_train, y_train)}')\n",
    "    print(f'Acurácia do Teste: {model.score(x_test, y_test)}') # Corrigido para x_test e y_test"
   ]
  },
  {
   "cell_type": "markdown",
   "id": "7bc4dd89",
   "metadata": {},
   "source": [
    "## Aplicando funções e algoritmos de divisão de dados"
   ]
  },
  {
   "cell_type": "markdown",
   "id": "08a86beb",
   "metadata": {},
   "source": [
    "### K-Fold"
   ]
  },
  {
   "cell_type": "code",
   "execution_count": null,
   "id": "391df2ca",
   "metadata": {},
   "outputs": [],
   "source": [
    "kf = KFold(n_splits=4)\n",
    "for fold, (train_index, test_index) in enumerate(kf.split(x_pokemon)):\n",
    "    model = LogisticRegression()\n",
    "    model.fit(x_pokemon[train_index], y_pokemon[train_index])\n",
    "    plot_model(model, \n",
    "        x_pokemon[train_index], \n",
    "        y_pokemon[train_index], \n",
    "        x_pokemon[test_index], \n",
    "        y_pokemon[test_index],\n",
    "        title='Pokemon'\n",
    "    )"
   ]
  },
  {
   "cell_type": "markdown",
   "id": "344c31af",
   "metadata": {},
   "source": [
    "### Leave-One-Out"
   ]
  },
  {
   "cell_type": "code",
   "execution_count": null,
   "id": "7ea26c55",
   "metadata": {},
   "outputs": [],
   "source": [
    "loo = LeaveOneOut()\n",
    "for i, (train_index, test_index) in enumerate(loo.split(x_pokemon)):    \n",
    "    if i >= 3: break # Limitar em 3 exemplos\n",
    "\n",
    "    model = LogisticRegression()\n",
    "    model.fit(x_pokemon[train_index], y_pokemon[train_index])\n",
    "    plot_model(\n",
    "        model, \n",
    "        x_pokemon[train_index], \n",
    "        y_pokemon[train_index],\n",
    "        x_pokemon[test_index],\n",
    "        y_pokemon[test_index],\n",
    "        f\"Leave-One-Out : Fold-Exemplo {i+1}\",\n",
    "    )"
   ]
  },
  {
   "cell_type": "markdown",
   "id": "2f84a99d",
   "metadata": {},
   "source": [
    "### StratifiedKFold"
   ]
  },
  {
   "cell_type": "code",
   "execution_count": null,
   "id": "9d2e598f",
   "metadata": {},
   "outputs": [],
   "source": [
    "skf = StratifiedKFold(n_splits=3)\n",
    "skf.get_n_splits(x_pokemon, y_pokemon)\n",
    "print(skf)\n",
    "\n",
    "for i, (train_index, test_index) in enumerate(skf.split(x_pokemon, y_pokemon)):\n",
    "    if i >= 3: break # Limitar em 3 exemplos\n",
    "\n",
    "    model = LogisticRegression()\n",
    "    model.fit(x_pokemon[train_index], y_pokemon[train_index])\n",
    "    plot_model(\n",
    "        model, \n",
    "        x_pokemon[train_index], \n",
    "        y_pokemon[train_index],\n",
    "        x_pokemon[test_index],\n",
    "        y_pokemon[test_index],\n",
    "        f\"StratifiedKFlod : Fold-Exemplo {i+1}\",\n",
    "    )"
   ]
  }
 ],
 "metadata": {
  "kernelspec": {
   "display_name": "Python 3",
   "language": "python",
   "name": "python3"
  },
  "language_info": {
   "codemirror_mode": {
    "name": "ipython",
    "version": 3
   },
   "file_extension": ".py",
   "mimetype": "text/x-python",
   "name": "python",
   "nbconvert_exporter": "python",
   "pygments_lexer": "ipython3",
   "version": "3.10.12"
  }
 },
 "nbformat": 4,
 "nbformat_minor": 5
}
