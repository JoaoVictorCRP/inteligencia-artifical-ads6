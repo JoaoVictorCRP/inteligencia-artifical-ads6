{
 "cells": [
  {
   "cell_type": "markdown",
   "id": "ab6d918b",
   "metadata": {},
   "source": [
    "# Módulo 2️⃣ - Validação"
   ]
  },
  {
   "cell_type": "code",
   "execution_count": 17,
   "id": "8a3a3df4",
   "metadata": {},
   "outputs": [],
   "source": [
    "# Importação de bibliotecas\n",
    "## Processamento de dados\n",
    "import numpy as np\n",
    "import pandas as pd\n",
    "from sklearn.preprocessing import StandardScaler\n",
    "from sklearn.linear_model import LogisticRegression\n",
    "from sklearn.pipeline import make_pipeline\n",
    "from sklearn.preprocessing import PolynomialFeatures, LabelEncoder\n",
    "from sklearn.model_selection import train_test_split, KFold, StratifiedKFold\n",
    "\n",
    "## Matplotlib e estilos para criação de gráficos\n",
    "import matplotlib.pyplot as plt\n",
    "from matplotlib.colors import ListedColormap\n",
    "from matplotlib.lines import Line2D"
   ]
  },
  {
   "cell_type": "code",
   "execution_count": 18,
   "id": "877802d7",
   "metadata": {},
   "outputs": [],
   "source": [
    "# Iremos trabalhar com dados de Pokémon (Extraídos da PokéAPI)\n",
    "data = {\n",
    "    'Nome': ['Charmander', 'Squirtle', 'Growlithe', 'Psyduck', 'Vulpix', 'Poliwag',\n",
    "             'Magmar', 'Tentacool', 'Cyndaquil', 'Totodile', 'Torchic', 'Mudkip',\n",
    "             'Chimchar', 'Piplup', 'Fennekin', 'Froakie'],\n",
    "    'Tipo': ['Fogo', 'Água', 'Fogo', 'Água', 'Fogo', 'Água',\n",
    "             'Fogo', 'Água', 'Fogo', 'Água', 'Fogo', 'Água',\n",
    "             'Fogo', 'Água', 'Fogo', 'Água'],\n",
    "    'Attack': [52, 48, 70, 52, 50, 50, 95, 40, 49, 65, 60, 70, 58, 51, 61, 56],\n",
    "    'Speed': [65, 43, 60, 55, 65, 90, 93, 70, 65, 43, 45, 40, 61, 50, 72, 71]\n",
    "}"
   ]
  },
  {
   "cell_type": "code",
   "execution_count": 19,
   "id": "75b14fed",
   "metadata": {},
   "outputs": [
    {
     "name": "stdout",
     "output_type": "stream",
     "text": [
      "          Nome  Tipo  Attack  Speed\n",
      "0   Charmander  Fogo      52     65\n",
      "1     Squirtle  Água      48     43\n",
      "2    Growlithe  Fogo      70     60\n",
      "3      Psyduck  Água      52     55\n",
      "4       Vulpix  Fogo      50     65\n",
      "5      Poliwag  Água      50     90\n",
      "6       Magmar  Fogo      95     93\n",
      "7    Tentacool  Água      40     70\n",
      "8    Cyndaquil  Fogo      49     65\n",
      "9     Totodile  Água      65     43\n",
      "10     Torchic  Fogo      60     45\n",
      "11      Mudkip  Água      70     40\n",
      "12    Chimchar  Fogo      58     61\n",
      "13      Piplup  Água      51     50\n",
      "14    Fennekin  Fogo      61     72\n",
      "15     Froakie  Água      56     71\n"
     ]
    }
   ],
   "source": [
    "# Criando dataframe\n",
    "df_pokemon = pd.DataFrame(data)\n",
    "print(df_pokemon)"
   ]
  },
  {
   "cell_type": "code",
   "execution_count": 20,
   "id": "1a221ed9",
   "metadata": {},
   "outputs": [
    {
     "name": "stdout",
     "output_type": "stream",
     "text": [
      "          Nome  Tipo  Attack  Speed\n",
      "0   Charmander     0      52     65\n",
      "1     Squirtle     1      48     43\n",
      "2    Growlithe     0      70     60\n",
      "3      Psyduck     1      52     55\n",
      "4       Vulpix     0      50     65\n",
      "5      Poliwag     1      50     90\n",
      "6       Magmar     0      95     93\n",
      "7    Tentacool     1      40     70\n",
      "8    Cyndaquil     0      49     65\n",
      "9     Totodile     1      65     43\n",
      "10     Torchic     0      60     45\n",
      "11      Mudkip     1      70     40\n",
      "12    Chimchar     0      58     61\n",
      "13      Piplup     1      51     50\n",
      "14    Fennekin     0      61     72\n",
      "15     Froakie     1      56     71\n"
     ]
    }
   ],
   "source": [
    "# Transformando valores categóricos em números inteiros (isso permite a categorização dos dados pelo computador)\n",
    "le = LabelEncoder()\n",
    "df_pokemon['Tipo'] = le.fit_transform(df_pokemon['Tipo'])\n",
    "print(df_pokemon)"
   ]
  },
  {
   "cell_type": "code",
   "execution_count": null,
   "id": "09904e37",
   "metadata": {},
   "outputs": [],
   "source": [
    "# Separando dados de treinamento e teste\n",
    "x_pokemon = df_pokemon[['Attack', 'Speed']].values\n",
    "y_pokemon = df_pokemon['Tipo'].values"
   ]
  }
 ],
 "metadata": {
  "kernelspec": {
   "display_name": "Python 3",
   "language": "python",
   "name": "python3"
  },
  "language_info": {
   "codemirror_mode": {
    "name": "ipython",
    "version": 3
   },
   "file_extension": ".py",
   "mimetype": "text/x-python",
   "name": "python",
   "nbconvert_exporter": "python",
   "pygments_lexer": "ipython3",
   "version": "3.10.12"
  }
 },
 "nbformat": 4,
 "nbformat_minor": 5
}
